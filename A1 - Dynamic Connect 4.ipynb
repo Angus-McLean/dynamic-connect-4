{
 "cells": [
  {
   "cell_type": "markdown",
   "metadata": {},
   "source": [
    "# ECSE 526 - A1 - Dynamic Connect 4 Implementation"
   ]
  },
  {
   "cell_type": "markdown",
   "metadata": {},
   "source": [
    "The following notebook is a walk through of the implementation of DynamicConnect4 (described on the [course website](http://cim.mcgill.ca/~jer/courses/ai/assignments/as1.html)). These functions were then copied to .py files to build the final game playing agent.\n",
    "\n",
    "This project requires the following packages be installed : \n",
    "\n",
    "`scipy, telnetlib, numpy, hashlib, argparse`\n",
    "\n",
    "__Quick Note__ :\n",
    "\n",
    "I've documented and explained most portions of this implementation (important details in both text cells and code comments). Keep in mind this was the rough-document which includes some brain storming / adhoc testing (its not as concise as the report)."
   ]
  },
  {
   "cell_type": "markdown",
   "metadata": {},
   "source": [
    "## Implementation Overview"
   ]
  },
  {
   "attachments": {
    "image.png": {
     "image/png": "[encoded data removed]"
    }
   },
   "cell_type": "markdown",
   "metadata": {},
   "source": [
    "![image.png](attachment:image.png)"
   ]
  },
  {
   "cell_type": "markdown",
   "metadata": {},
   "source": [
    "__Context :__\n",
    "\n",
    "For this project I tried to codify most of the gameState and interactions as matrix operations in hopes to optimize performance. Knowing that many numpy functions are implemented in c, I aimed to minimize the use of python-for loops in favour of vectorized operations in numpy.\n",
    "\n",
    "__Code Organization :__ \n",
    "\n",
    "This notebook is sectioned sequentially, documenting not only the code but the thought process and testing throughout implementation. At a high-level the implementation is structures as follows : \n",
    "- Game Basics\n",
    "    - Parsing game state, generating actions, simple heuristic, A-Star algo\n",
    "- Game Agent\n",
    "    - Define Minimax & AlphaBeta, run test game\n",
    "- Connect to Server\n",
    "- Play game against server"
   ]
  },
  {
   "cell_type": "markdown",
   "metadata": {},
   "source": [
    "# Game Basics"
   ]
  },
  {
   "attachments": {
    "image.png": {
     "image/png": "[encoded data removed]"
    }
   },
   "cell_type": "markdown",
   "metadata": {},
   "source": [
    "## Implementation Notes : \n",
    "\n",
    "__Game Board State__ : The board is represented as a 7x7 matrix. Empty cells = 0\n",
    "\n",
    "\n",
    "__Pieces__ : Players are assigned a number (as defined by PLAYER_IDS). Each piece is either -1 or 1, these corespond to player number (ie player1 uses pieces 1). These pieces are placed in the matrix\n",
    "\n",
    "![image.png](attachment:image.png)"
   ]
  },
  {
   "cell_type": "markdown",
   "metadata": {},
   "source": [
    "__Generating Actions__ : Since the pieces and game board is a matrix, moving pieces can be done by subtracting the piece from its current position and adding it to the next.\n",
    "\n",
    "__Successor States__ : Successor states are calculated simply by adding the 7x7 move matrices generated.\n",
    "\n",
    "__Validating Board State__ : Validating board states can be done by counting the number of pieces for each player. This is used to eliminate invalid moves.\n",
    "\n",
    "__Heuristic__ : Keeping with the theme of matrix operations.. Counting the number of connected pieces for either player can be done with a matrix operation. More details in the section"
   ]
  },
  {
   "cell_type": "markdown",
   "metadata": {},
   "source": [
    "## Converting String->State->String"
   ]
  },
  {
   "cell_type": "code",
   "execution_count": 1,
   "metadata": {},
   "outputs": [],
   "source": [
    "import numpy as np\n",
    "import time\n",
    "import re"
   ]
  },
  {
   "cell_type": "code",
   "execution_count": 2,
   "metadata": {},
   "outputs": [],
   "source": [
    "PLAYER_IDS = {\n",
    "    'color':['white','black'],\n",
    "    'symbol':['O','X'],\n",
    "    'num':[1,-1]\n",
    "}"
   ]
  },
  {
   "cell_type": "code",
   "execution_count": 3,
   "metadata": {},
   "outputs": [],
   "source": [
    "## Take string representation of state and return 2d matrix\n",
    "def strToState(strState):\n",
    "    arrState = re.sub('^ *\\n|\\n *$','', strState).replace('\\n',',').replace(' ','').split(',')\n",
    "    arrState = np.array(arrState).reshape((7,7))\n",
    "    \n",
    "    a = np.where(arrState=='X', -1, arrState)\n",
    "    a = np.where(a=='O', 1, a)\n",
    "    matState = np.where(a=='', 0, a).astype(int)\n",
    "    \n",
    "    return np.matrix(matState)\n",
    "\n",
    "## 2d matrix representation of state --> string representation.. (reverse operation of above)\n",
    "def stateToStr(state):\n",
    "    return ' '+re.sub('\\[|\\]','', re.sub(' *(-?\\d)', '\\g<1>,',str(state.astype(int))).replace(',]',']')).replace('-1','X').replace('1','O').replace('0',' ')\n"
   ]
  },
  {
   "cell_type": "code",
   "execution_count": 4,
   "metadata": {},
   "outputs": [],
   "source": [
    "## Define some sample starting states for testing implementation\n",
    "str1 = \"\"\"\n",
    ", , , , , , \n",
    " , , , , , , \n",
    "O, ,X, , , , \n",
    " , , ,O, , ,X\n",
    " , , , ,O,X,X\n",
    " , ,O, , ,O,X\n",
    " , , ,X,O, , \n",
    "\"\"\"\n",
    "\n",
    "str2 = \"\"\"O,O, , , , , \n",
    "X, , , , , , \n",
    " , ,X, , ,O, \n",
    " , ,X,O, , ,X\n",
    " , , , ,O,X,\n",
    " ,X, , , , , \n",
    "O, , , , , ,\n",
    "\"\"\""
   ]
  },
  {
   "cell_type": "markdown",
   "metadata": {},
   "source": [
    "### Test Converting Str and States"
   ]
  },
  {
   "cell_type": "code",
   "execution_count": 5,
   "metadata": {},
   "outputs": [],
   "source": [
    "import pandas as pd"
   ]
  },
  {
   "cell_type": "code",
   "execution_count": 6,
   "metadata": {},
   "outputs": [
    {
     "name": "stdout",
     "output_type": "stream",
     "text": [
      "\n",
      ", , , , , , \n",
      " , , , , , , \n",
      "O, ,X, , , , \n",
      " , , ,O, , ,X\n",
      " , , , ,O,X,X\n",
      " , ,O, , ,O,X\n",
      " , , ,X,O, , \n",
      "\n",
      "[[ 0  0  0  0  0  0  0]\n",
      " [ 0  0  0  0  0  0  0]\n",
      " [ 1  0 -1  0  0  0  0]\n",
      " [ 0  0  0  1  0  0 -1]\n",
      " [ 0  0  0  0  1 -1 -1]\n",
      " [ 0  0  1  0  0  1 -1]\n",
      " [ 0  0  0 -1  1  0  0]]\n",
      "\n",
      "  , , , , , , \n",
      "  , , , , , , \n",
      " O, ,X, , , , \n",
      "  , , ,O, , ,X\n",
      "  , , , ,O,X,X\n",
      "  , ,O, , ,O,X\n",
      "  , , ,X,O, , \n"
     ]
    }
   ],
   "source": [
    "print(str1)\n",
    "testState = strToState(str1)\n",
    "print(testState)\n",
    "print()\n",
    "print(stateToStr(testState))"
   ]
  },
  {
   "cell_type": "markdown",
   "metadata": {},
   "source": [
    "## Generating Actions & Successors"
   ]
  },
  {
   "cell_type": "code",
   "execution_count": 7,
   "metadata": {},
   "outputs": [],
   "source": [
    "# https://docs.scipy.org/doc/scipy-0.14.0/reference/generated/scipy.ndimage.filters.convolve.html\n",
    "from scipy import ndimage"
   ]
  },
  {
   "cell_type": "code",
   "execution_count": 8,
   "metadata": {},
   "outputs": [],
   "source": [
    "## Given (gameStateMatrix, CoordinatesForPiece)\n",
    "## Builds and returns array of 4 'move-matrices' for piece at given coords\n",
    "## This method won't generate moves off the board. \n",
    "def generateMovesForPiece(state, coords):\n",
    "    intPiece = state[coords]\n",
    "    matAction = np.zeros((7,7))\n",
    "    matAction[coords] = -1*intPiece\n",
    "    actions = []\n",
    "    \n",
    "    \n",
    "    if coords[0]+1<7:\n",
    "        a1 = matAction.copy()\n",
    "        a1[coords[0]+1, coords[1]] = intPiece\n",
    "        actions.append(a1)\n",
    "    if coords[0]-1>=0:\n",
    "        a2 = matAction.copy()\n",
    "        a2[coords[0]-1, coords[1]] = intPiece\n",
    "        actions.append(a2)\n",
    "    if coords[1]+1<7:\n",
    "        a3 = matAction.copy()\n",
    "        a3[coords[0], coords[1]+1] = intPiece\n",
    "        actions.append(a3)\n",
    "    if coords[1]-1>=0:\n",
    "        a4 = matAction.copy()\n",
    "        a4[coords[0], coords[1]-1] = intPiece\n",
    "        actions.append(a4)\n",
    "    \n",
    "    return np.array(actions)\n",
    "\n",
    "def isValidState(state):\n",
    "    if state.sum() != 0 : return False\n",
    "    if np.count_nonzero(state) != 12 : return False\n",
    "    return True"
   ]
  },
  {
   "cell_type": "markdown",
   "metadata": {},
   "source": [
    "### Test Generating Moves and Successor State"
   ]
  },
  {
   "cell_type": "code",
   "execution_count": 9,
   "metadata": {},
   "outputs": [
    {
     "name": "stdout",
     "output_type": "stream",
     "text": [
      "  , , , , , , \n",
      "  , , , , , , \n",
      " O, ,X, , , , \n",
      "  , , ,O, , ,X\n",
      "  , , , ,O,X,X\n",
      "  , ,O, , ,O,X\n",
      "  , , ,X,O, , \n",
      "  , , , , , , \n",
      "  , , , , , , \n",
      " O, ,X, , , , \n",
      "  , , ,O, , ,X\n",
      "  , , , ,O,X,X\n",
      "  , ,O, , ,O,X\n",
      "  , , ,X,O, , \n"
     ]
    }
   ],
   "source": [
    "newState =  testState + generateMovesForPiece(testState, (0,2))[0]\n",
    "print(stateToStr(testState))\n",
    "print(stateToStr(newState))"
   ]
  },
  {
   "cell_type": "markdown",
   "metadata": {},
   "source": [
    "### Generate Successors for Player\n",
    "Abstract above methods further to easily generate all potential valid moves for a given player.."
   ]
  },
  {
   "cell_type": "code",
   "execution_count": 10,
   "metadata": {},
   "outputs": [],
   "source": [
    "## Iterate pieces for player and generate all moves\n",
    "def generateMovesForPlayer(player, state):\n",
    "    piecesCoords = list(zip(*np.where(state==player)))\n",
    "    moves = np.concatenate(list(map(lambda c:generateMovesForPiece(state,c), piecesCoords)))\n",
    "    return moves\n",
    "\n",
    "## Check which moves matrices lead to valid game states.\n",
    "## Return list of only valid moves\n",
    "def validateMoves(state, moves):\n",
    "    nextStates = np.add(moves, np.asarray(state))\n",
    "    counts = np.sum(np.count_nonzero(nextStates,axis=1), axis=1)\n",
    "    m_counts = counts==12\n",
    "    return moves[m_counts]\n",
    "\n",
    "## Generate all moves, validate them, calculate the successor states for player\n",
    "def generateSuccessorsForPlayer(player, state):\n",
    "    moves = generateMovesForPlayer(player, state)\n",
    "    validMoves = validateMoves(state, moves)\n",
    "    return np.add(validMoves, np.asarray(state))"
   ]
  },
  {
   "cell_type": "markdown",
   "metadata": {},
   "source": [
    "## Heuristic"
   ]
  },
  {
   "attachments": {
    "image.png": {
     "image/png": "[encoded data removed]"
    }
   },
   "cell_type": "markdown",
   "metadata": {},
   "source": [
    "Using the following 4 kernels (aka filters) we can apply convolution operation against the 7x7 game state matrix. This will return a 'filtered' matrix who's cell values correspond to the number of pieces of overlap with each kernel configuration.\n",
    "\n",
    "![image.png](attachment:image.png)\n",
    "\n",
    "Once the convolution is calculated, the max value of the result is the player's score (ie number of connected pieces). When this max number is 4, that player wins!"
   ]
  },
  {
   "cell_type": "markdown",
   "metadata": {},
   "source": [
    "### Basic Heuristic"
   ]
  },
  {
   "cell_type": "code",
   "execution_count": 11,
   "metadata": {},
   "outputs": [],
   "source": [
    "## Define filter matrices\n",
    "filtDiag4 = np.diag((1,1,1,1))\n",
    "filtDiagx4 = np.flip(filtDiag4, axis=0)\n",
    "filtFlat4 = [[1,1,1,1]]\n",
    "filtVert4 = [[1],\n",
    "             [1],\n",
    "             [1],\n",
    "             [1]]\n",
    "\n",
    "## Run convolutions against state and return max score\n",
    "def scoreMaxConnected(player, state):\n",
    "    pieces = (state==player).astype(int)\n",
    "    flatCount = ndimage.convolve(pieces, filtFlat4, mode='constant', cval=0.0).max()\n",
    "    vertCount = ndimage.convolve(pieces, filtVert4, mode='constant', cval=0.0).max()\n",
    "    diagCount = ndimage.convolve(pieces, filtDiag4, mode='constant', cval=0.0).max()\n",
    "    diagxCount = ndimage.convolve(pieces, filtDiagx4, mode='constant', cval=0.0).max()\n",
    "    return np.max((flatCount, vertCount, diagCount, diagxCount))"
   ]
  },
  {
   "cell_type": "code",
   "execution_count": 12,
   "metadata": {},
   "outputs": [
    {
     "data": {
      "text/plain": [
       "3"
      ]
     },
     "execution_count": 12,
     "metadata": {},
     "output_type": "execute_result"
    }
   ],
   "source": [
    "scoreMaxConnected(1, testState)"
   ]
  },
  {
   "cell_type": "markdown",
   "metadata": {},
   "source": [
    "### Fuzzy Heuristic"
   ]
  },
  {
   "cell_type": "code",
   "execution_count": 13,
   "metadata": {},
   "outputs": [],
   "source": [
    "fuzzyFiltDiag4 = np.array([\n",
    "    [1,1,0,0,0,0],\n",
    "    [1,2,1,0,0,0],\n",
    "    [0,1,2,1,0,0],\n",
    "    [0,0,1,2,1,0],\n",
    "    [0,0,0,1,2,1],\n",
    "    [0,0,0,0,1,1]\n",
    "])\n",
    "fuzzyFiltDiagx4 = np.flip(fuzzyFiltDiag4, axis=0)\n",
    "fuzzyFiltFlat4 = np.array([[0,1,1,1,1,0], [1,2,2,2,2,1], [0,1,1,1,1,0]])\n",
    "fuzzyFiltVert4 = fuzzyFiltFlat4.T\n",
    "\n",
    "def scoreMaxConnectedFuzzy(player, state):\n",
    "\n",
    "    flatCount = ndimage.convolve(state, fuzzyFiltFlat4, mode='constant', cval=0.0)\n",
    "    vertCount = ndimage.convolve(state, fuzzyFiltVert4, mode='constant', cval=0.0)\n",
    "    diagCount = ndimage.convolve(state, fuzzyFiltDiag4, mode='constant', cval=0.0)\n",
    "    diagxCount = ndimage.convolve(state, fuzzyFiltDiagx4, mode='constant', cval=0.0)\n",
    "    fuzzyScores = np.array([flatCount, vertCount, diagCount, diagxCount])\n",
    "    return np.max(fuzzyScores) if player == 1 else np.min(fuzzyScores)\n",
    "\n",
    "def fuzzyHeuristic(player, state):\n",
    "    return scoreMaxConnected(player, state) + scoreMaxConnectedFuzzy(player, state)/8"
   ]
  },
  {
   "cell_type": "markdown",
   "metadata": {},
   "source": [
    "## Sanity Check with Search Algo"
   ]
  },
  {
   "cell_type": "markdown",
   "metadata": {},
   "source": [
    "__Validating Proof-of-Concept__ :\n",
    "\n",
    "Now that the game state, successor states, and heuristic have all been defined we can setup a quick search problem. \n",
    "\n",
    "Can a graph search find the fastest route to the goal state?"
   ]
  },
  {
   "cell_type": "code",
   "execution_count": 14,
   "metadata": {},
   "outputs": [],
   "source": [
    "from simpleai.search import SearchProblem, astar, breadth_first\n",
    "from hashlib import sha1\n",
    "\n",
    "## Simple caching mechanism\n",
    "DB_STATE = {}\n",
    "def put(state):\n",
    "    strHash = sha1(state.tobytes()).hexdigest()\n",
    "    DB_STATE[strHash] = state\n",
    "    return strHash\n",
    "\n",
    "def get(strHash):\n",
    "    return DB_STATE[strHash]\n",
    "\n",
    "## Simple search problem wrapper\n",
    "class DynamicConnect4(SearchProblem):\n",
    "    def actions(self, state):\n",
    "        return generateMovesForPlayer(1, get(state))\n",
    "    def result(self, state, action):\n",
    "        return put(get(state) + action)\n",
    "    def is_goal(self, state):\n",
    "        return scoreMaxConnected(1, get(state))==4\n",
    "    def heuristic(self, state):\n",
    "        score = scoreMaxConnected(1, get(state))\n",
    "        print(state)\n",
    "        return score"
   ]
  },
  {
   "cell_type": "code",
   "execution_count": 15,
   "metadata": {},
   "outputs": [
    {
     "data": {
      "text/plain": [
       "matrix([[ 0,  0,  0,  0,  0,  0,  0],\n",
       "        [ 0,  0,  0,  0,  0,  0,  0],\n",
       "        [ 1,  0, -1,  0,  0,  0,  0],\n",
       "        [ 0,  0,  0,  1,  0,  0, -1],\n",
       "        [ 0,  0,  0,  0,  1, -1, -1],\n",
       "        [ 0,  0,  1,  0,  0,  1, -1],\n",
       "        [ 0,  0,  0, -1,  1,  0,  0]])"
      ]
     },
     "execution_count": 15,
     "metadata": {},
     "output_type": "execute_result"
    }
   ],
   "source": [
    "str3 = \"\"\"\n",
    ", , , , , , \n",
    " , , , , , , \n",
    "O, ,X, , , , \n",
    " , , ,O, , ,X\n",
    " , , , ,O,X,X\n",
    " , ,O, , ,O,X\n",
    " , , ,X,O, , \n",
    " \"\"\"\n",
    "strToState(str3)"
   ]
  },
  {
   "cell_type": "code",
   "execution_count": 16,
   "metadata": {},
   "outputs": [],
   "source": [
    "problem = DynamicConnect4(initial_state=put(strToState(str3)))\n",
    "result = breadth_first(problem)"
   ]
  },
  {
   "cell_type": "code",
   "execution_count": 17,
   "metadata": {},
   "outputs": [
    {
     "name": "stdout",
     "output_type": "stream",
     "text": [
      "------- 37b1b09d1cfde25e10e35dabc809c733697f4223 --------\n",
      "  , , , , , , \n",
      "  , , , , , , \n",
      " O, ,X, , , , \n",
      "  , , ,O, , ,X\n",
      "  , , , ,O,X,X\n",
      "  , ,O, , ,O,X\n",
      "  , , ,X,O, , \n",
      "------- 12bbf58d46b8e43134504d8944045cac66978083 --------\n",
      "  , , , , , , \n",
      "  , , , , , , \n",
      " O, ,X, , , , \n",
      "  , , , ,O, ,X\n",
      "  , , , ,O,X,X\n",
      "  , ,O, , ,O,X\n",
      "  , , ,X,O, , \n",
      "------- e6db91eb458d1515943fc7a4b219ed309e2f811e --------\n",
      "  , , , , , , \n",
      "  , , , , , , \n",
      " O, ,X, , , , \n",
      "  , , , ,O, ,X\n",
      "  , , , ,O,X,X\n",
      "  , ,O, ,O, ,X\n",
      "  , , ,X,O, , \n"
     ]
    }
   ],
   "source": [
    "for i in result.path():\n",
    "    print('-------',i[1],'--------')\n",
    "    print(stateToStr(get(i[1])))"
   ]
  },
  {
   "cell_type": "markdown",
   "metadata": {},
   "source": [
    "# Game Agent"
   ]
  },
  {
   "cell_type": "markdown",
   "metadata": {},
   "source": [
    "## MiniMax"
   ]
  },
  {
   "attachments": {
    "image.png": {
     "image/png": "[encoded data removed]"
    }
   },
   "cell_type": "markdown",
   "metadata": {},
   "source": [
    "![image.png](attachment:image.png)\n",
    "\n",
    "Implementation of minimax was inspired by pseudo-code implementations in both the text book (Artificial Intelligence : A Modern Approach) and [wikipedia](https://en.wikipedia.org/wiki/Minimax)\n"
   ]
  },
  {
   "cell_type": "code",
   "execution_count": 18,
   "metadata": {},
   "outputs": [],
   "source": [
    "## Transposition table\n",
    "DB_TRANSP = {}\n",
    "\n",
    "## Takes : (stateHash, playerNum, searchDepth)\n",
    "## Returns : (bestScore, bestSuccessorStateMatrix)\n",
    "def minimax(stateStr, player, depth):\n",
    "    if hasattr(minimax, 'count') : minimax.count = minimax.count+1\n",
    "    if (depth,stateStr) in DB_TRANSP: return DB_TRANSP[(depth,stateStr)]\n",
    "    state = get(stateStr)\n",
    "    score = scoreMaxConnected(player*-1, state)*player*-1\n",
    "    if depth==0 or abs(score)==4:\n",
    "        return (score, state)\n",
    "    \n",
    "    actionValues = []\n",
    "    arrSuccessors = generateSuccessorsForPlayer(player, state)\n",
    "    for st in arrSuccessors:\n",
    "        v, _ = minimax(put(st), player*-1, depth-1)\n",
    "        actionValues.append(v)\n",
    "#     print('actionValues', len(actionValues), actionValues)\n",
    "    bestScore = max(actionValues) if (player > 0) else min(actionValues)\n",
    "    DB_TRANSP[(depth,stateStr)] = (bestScore, arrSuccessors[actionValues.index(bestScore)])\n",
    "    return DB_TRANSP[(depth,stateStr)]\n"
   ]
  },
  {
   "cell_type": "markdown",
   "metadata": {},
   "source": [
    "### Test MiniMax with Synthetic Problem"
   ]
  },
  {
   "cell_type": "code",
   "execution_count": 19,
   "metadata": {},
   "outputs": [],
   "source": [
    "str4 = \"\"\"\n",
    "X,X,X, , ,X, \n",
    " , , ,O, , , \n",
    " , , , ,X, , \n",
    " , , ,O, , , \n",
    " , , ,O, , , \n",
    "O, , ,O, , , \n",
    "O, , , , ,X, \n",
    " \"\"\""
   ]
  },
  {
   "cell_type": "code",
   "execution_count": 20,
   "metadata": {},
   "outputs": [
    {
     "data": {
      "text/plain": [
       "(3, array([[-1., -1., -1.,  0.,  0., -1.,  0.],\n",
       "        [ 0.,  0.,  0.,  1.,  0.,  0.,  0.],\n",
       "        [ 0.,  0.,  0., -1.,  0.,  0.,  0.],\n",
       "        [ 0.,  0.,  0.,  1.,  0.,  0.,  0.],\n",
       "        [ 0.,  0.,  0.,  1.,  0.,  0.,  0.],\n",
       "        [ 1.,  0.,  0.,  1.,  0.,  0.,  0.],\n",
       "        [ 1.,  0.,  0.,  0.,  0., -1.,  0.]]))"
      ]
     },
     "execution_count": 20,
     "metadata": {},
     "output_type": "execute_result"
    }
   ],
   "source": [
    "DB_STATE = {}\n",
    "DB_TRANSP = {}\n",
    "minimax(put(strToState(str4)), -1, 2)"
   ]
  },
  {
   "cell_type": "markdown",
   "metadata": {},
   "source": [
    "## AlphaBeta"
   ]
  },
  {
   "attachments": {
    "image.png": {
     "image/png": "[encoded data removed]"
    }
   },
   "cell_type": "markdown",
   "metadata": {},
   "source": [
    "![image.png](attachment:image.png)\n",
    "\n",
    "Implementation of AlphaBeta pruning was also inspired by pseudo-code implementations in both the text book (Artificial Intelligence : A Modern Approach) and [wikipedia](https://en.wikipedia.org/wiki/Alpha–beta_pruning)\n"
   ]
  },
  {
   "cell_type": "code",
   "execution_count": 21,
   "metadata": {},
   "outputs": [],
   "source": [
    "def alphaBeta(stateStr, player, depth, alpha=-np.inf, beta=np.inf):\n",
    "    if hasattr(alphaBeta, 'count') : alphaBeta.count = alphaBeta.count+1\n",
    "    if (depth, stateStr) in DB_TRANSP: return DB_TRANSP[(depth, stateStr)]\n",
    "    state = get(stateStr)\n",
    "    score = scoreMaxConnected(player*-1, state)*player*-1\n",
    "    if depth==0 or abs(score)==4:\n",
    "        return (score, state)\n",
    "    \n",
    "    actionValues = []\n",
    "    arrSuccessors = generateSuccessorsForPlayer(player, state)\n",
    "    for st in arrSuccessors:\n",
    "        v, _ = alphaBeta(put(st), player*-1, depth-1, alpha, beta)\n",
    "        \n",
    "        actionValues.append(v)\n",
    "        if player>0:\n",
    "            alpha = max(alpha, v)\n",
    "        else :\n",
    "            beta = min(beta, v)\n",
    "        if beta <= alpha:\n",
    "            break\n",
    "    \n",
    "    bestScore = max(actionValues) if (player > 0) else min(actionValues)\n",
    "    DB_TRANSP[(depth, stateStr)] = (bestScore, arrSuccessors[actionValues.index(bestScore)])\n",
    "    return DB_TRANSP[(depth, stateStr)]\n"
   ]
  },
  {
   "cell_type": "markdown",
   "metadata": {},
   "source": [
    "### Test AlphaBeta with Synthetic Problem"
   ]
  },
  {
   "cell_type": "code",
   "execution_count": 22,
   "metadata": {},
   "outputs": [
    {
     "data": {
      "text/plain": [
       "(4, array([[-1., -1., -1.,  0.,  0., -1.,  0.],\n",
       "        [ 0.,  0.,  0.,  0.,  0.,  0.,  0.],\n",
       "        [ 0.,  0.,  0.,  1., -1.,  0.,  0.],\n",
       "        [ 0.,  0.,  0.,  1.,  0.,  0.,  0.],\n",
       "        [ 0.,  0.,  0.,  1.,  0.,  0.,  0.],\n",
       "        [ 1.,  0.,  0.,  1.,  0.,  0.,  0.],\n",
       "        [ 1.,  0.,  0.,  0.,  0., -1.,  0.]]))"
      ]
     },
     "execution_count": 22,
     "metadata": {},
     "output_type": "execute_result"
    }
   ],
   "source": [
    "DB_STATE = {}\n",
    "DB_TRANSP = {}\n",
    "alphaBeta(put(strToState(str4)), 1, 3)"
   ]
  },
  {
   "cell_type": "markdown",
   "metadata": {},
   "source": [
    "# Run Test Game"
   ]
  },
  {
   "cell_type": "markdown",
   "metadata": {},
   "source": [
    "## Define GamePlay Loop"
   ]
  },
  {
   "cell_type": "code",
   "execution_count": 23,
   "metadata": {},
   "outputs": [],
   "source": [
    "def minimaxAgent(state, player):\n",
    "    return minimax(state, player, 4)\n",
    "\n",
    "def alphaBetaAgent(state, player):\n",
    "    return alphaBeta(state, player, 4)"
   ]
  },
  {
   "cell_type": "code",
   "execution_count": 24,
   "metadata": {},
   "outputs": [],
   "source": [
    "def playGame(initStateStr, maxTurns=100, agent=minimaxAgent, verbose=False):\n",
    "    score = 0\n",
    "    count = 0\n",
    "    DB_STATE = {}\n",
    "    DB_TRANSP = {}\n",
    "    gameState = put(strToState(initStateStr))\n",
    "    while abs(score)!=4 and count<maxTurns:\n",
    "        player = count%2*(-2)+1\n",
    "        _, gameState = agent(gameState, player)\n",
    "        score = scoreMaxConnected(player, gameState)\n",
    "        if verbose : \n",
    "            print('------ Turn : ', count,', Player : ', player,' -------')\n",
    "            print(stateToStr(gameState))\n",
    "        gameState = put(gameState)\n",
    "        count += 1\n",
    "\n",
    "    print('--------- WINNER !! ----------')\n",
    "    print('------ Turn : ', count,', Player : ', player,' -------')\n",
    "    print(stateToStr(get(gameState)))"
   ]
  },
  {
   "cell_type": "markdown",
   "metadata": {},
   "source": [
    "## Play Game (MiniMax)"
   ]
  },
  {
   "cell_type": "code",
   "execution_count": 25,
   "metadata": {
    "scrolled": true
   },
   "outputs": [
    {
     "name": "stdout",
     "output_type": "stream",
     "text": [
      "--------- WINNER !! ----------\n",
      "------ Turn :  17 , Player :  1  -------\n",
      "  , , , , , , \n",
      "  , , , , , , \n",
      "  , , , , , , \n",
      "  , , , , , ,X\n",
      "  , ,X, , ,X,X\n",
      "  , ,O,O,O,O,X\n",
      " O, , ,X,O, , \n",
      "CPU times: user 29.8 s, sys: 198 ms, total: 30 s\n",
      "Wall time: 30 s\n"
     ]
    }
   ],
   "source": [
    "%%time\n",
    "DB_STATE = {}\n",
    "DB_TRANSP = {}\n",
    "playGame(str1)"
   ]
  },
  {
   "cell_type": "markdown",
   "metadata": {},
   "source": [
    "## Play Game (AlphaBeta)"
   ]
  },
  {
   "cell_type": "code",
   "execution_count": 26,
   "metadata": {},
   "outputs": [
    {
     "name": "stdout",
     "output_type": "stream",
     "text": [
      "--------- WINNER !! ----------\n",
      "------ Turn :  17 , Player :  1  -------\n",
      "  , , , , , , \n",
      "  , , , , , , \n",
      "  , , , , , , \n",
      "  , , , , , ,X\n",
      "  , ,X, , ,X,X\n",
      "  , ,O,O,O,O,X\n",
      " O, , ,X,O, , \n",
      "CPU times: user 3 s, sys: 24.3 ms, total: 3.03 s\n",
      "Wall time: 3.03 s\n"
     ]
    }
   ],
   "source": [
    "%%time\n",
    "DB_STATE = {}\n",
    "DB_TRANSP = {}\n",
    "playGame(str1, agent=alphaBetaAgent)"
   ]
  },
  {
   "cell_type": "markdown",
   "metadata": {},
   "source": [
    "# Connecting to Game Server"
   ]
  },
  {
   "cell_type": "markdown",
   "metadata": {},
   "source": [
    "## Establish Connection"
   ]
  },
  {
   "cell_type": "code",
   "execution_count": 27,
   "metadata": {},
   "outputs": [],
   "source": [
    "import telnetlib"
   ]
  },
  {
   "cell_type": "code",
   "execution_count": 28,
   "metadata": {},
   "outputs": [],
   "source": [
    "SERVER = {\n",
    "    'host' : 'localhost',\n",
    "    'port' : 12345,\n",
    "    'colour' : 'black',\n",
    "    'game_id' : 'mytestgame',\n",
    "}"
   ]
  },
  {
   "cell_type": "code",
   "execution_count": 29,
   "metadata": {},
   "outputs": [],
   "source": [
    "def connectToServer(serverObj) :\n",
    "    host = serverObj['host']\n",
    "    port = serverObj['port']\n",
    "    colour = serverObj['colour']\n",
    "    game_id = serverObj['game_id']\n",
    "\n",
    "    tn = telnetlib.Telnet(host, port)\n",
    "    tn.write(bytes('{} {}\\n'.format(game_id, colour), 'ascii'))\n",
    "    print('waiting for game :', game_id)\n",
    "    tn.read_until(bytes(game_id, 'ascii'))\n",
    "    return tn\n"
   ]
  },
  {
   "cell_type": "code",
   "execution_count": 30,
   "metadata": {},
   "outputs": [],
   "source": [
    "def readRemote(tnServer):\n",
    "    resp = tnServer.read_until(bytes('\\n', 'ascii')).decode('ascii')\n",
    "    print('Reading : ', resp)\n",
    "    return resp\n",
    "\n",
    "def getRemoteMove(tnServer, state, player):\n",
    "    remoteStr = readRemote(tnServer)\n",
    "    if not re.match('^[1-7]{2}[NSWE]', remoteStr) : \n",
    "        print('Cannot parse to move :', remoteStr);\n",
    "        return None\n",
    "    \n",
    "    # validate opponent is moving correct piece\n",
    "    if state[int(remoteStr[0])-1, int(remoteStr[1])-1] != player:\n",
    "        print('Attempting to move wrong piece :', remoteStr);\n",
    "        return None\n",
    "\n",
    "    newState = state + strToMove(remoteStr, player)\n",
    "    if not isValidState(newState) :\n",
    "        print('Invalid State from Server\\n', remoteStr)\n",
    "        return None\n",
    "    return newState"
   ]
  },
  {
   "cell_type": "markdown",
   "metadata": {},
   "source": [
    "## Parse Moves from Server"
   ]
  },
  {
   "cell_type": "code",
   "execution_count": 31,
   "metadata": {},
   "outputs": [],
   "source": [
    "DIR = {\n",
    "    'N':(-1,0),\n",
    "    'S':(1,0),\n",
    "    'E':(0,-1),\n",
    "    'W':(0,1)\n",
    "}\n",
    "\n",
    "moveStr = '57E\\n'\n",
    "player = 1\n",
    "\n",
    "def strToMove(moveStr, player):\n",
    "    moveList = tuple(moveStr[:3])\n",
    "    moveArr = np.zeros((7,7))\n",
    "    moveArr[int(moveList[0])-1, int(moveList[1])-1] = -1*player\n",
    "    newPos = np.add(np.array(moveList[:2]).astype(int), np.array(DIR[moveList[2]]))\n",
    "    moveArr[newPos[0]-1,newPos[1]-1] = player\n",
    "    return moveArr\n",
    "\n",
    "def moveToStr(moveArr, player):\n",
    "    coords = np.array(np.where(moveArr==player)).reshape(-1)\n",
    "    oldCoords = np.array(np.where(moveArr==-1*player)).reshape(-1)\n",
    "    movementTup = coords - oldCoords\n",
    "    direction = list(DIR.keys())[list(DIR.values()).index(tuple(movementTup))]\n",
    "    return '{}{}{}'.format(oldCoords[0]+1, oldCoords[1]+1, direction)"
   ]
  },
  {
   "cell_type": "markdown",
   "metadata": {},
   "source": [
    "### Quick Test Move Parsing"
   ]
  },
  {
   "cell_type": "code",
   "execution_count": 32,
   "metadata": {},
   "outputs": [
    {
     "data": {
      "text/plain": [
       "'11S'"
      ]
     },
     "execution_count": 32,
     "metadata": {},
     "output_type": "execute_result"
    }
   ],
   "source": [
    "moveArr = strToMove('11S\\n', player)\n",
    "moveToStr(moveArr, player)"
   ]
  },
  {
   "cell_type": "markdown",
   "metadata": {},
   "source": [
    "# Play Against Server"
   ]
  },
  {
   "cell_type": "markdown",
   "metadata": {},
   "source": [
    "## Wrap Game Playing Agent"
   ]
  },
  {
   "cell_type": "code",
   "execution_count": 33,
   "metadata": {},
   "outputs": [],
   "source": [
    "def getAiMove(state, player, time_limit, tnServer):\n",
    "    (bestScore, nextState) = alphaBetaAgent(put(state), player)\n",
    "    moveArr = nextState-state\n",
    "    moveStr = moveToStr(moveArr, player)\n",
    "    tnServer.write(bytes(moveStr + '\\n', 'ascii'))\n",
    "    print('Wrote/Response', readRemote(tnServer), '\\n')\n",
    "    return nextState"
   ]
  },
  {
   "cell_type": "markdown",
   "metadata": {},
   "source": [
    "## Establish GamePlay Loop"
   ]
  },
  {
   "cell_type": "code",
   "execution_count": 34,
   "metadata": {},
   "outputs": [],
   "source": [
    "def game_ai_vs_remote(SERVER=SERVER, stateFile='state_q1a.txt'):\n",
    "\n",
    "    with open(stateFile, 'r') as file:\n",
    "        stateStr = file.read()\n",
    "    state = strToState(stateStr)\n",
    "\n",
    "    tnServer = connectToServer(SERVER)\n",
    "    \n",
    "    time_limit = float(10000)\n",
    "    moveNum = 1\n",
    "    player = SERVER['colour']\n",
    "    server_turn = player == 'black'\n",
    "#     if server_turn : \n",
    "    resp = tnServer.read_until(bytes('\\n', 'ascii')).decode('ascii')\n",
    "    print('ServerTurn - Reading : ', resp)\n",
    "    curPlayer = PLAYER_IDS['num'][PLAYER_IDS['color'].index('white')]\n",
    "    \n",
    "    while True :\n",
    "        start_time = time.time()\n",
    "        \n",
    "        if server_turn:\n",
    "            nextState = getRemoteMove(tnServer, state, curPlayer)\n",
    "            if nextState is None : continue\n",
    "            state=nextState\n",
    "        else:\n",
    "            state=getAiMove(state, curPlayer, time_limit, tnServer)\n",
    "\n",
    "        print('\\n\\n------ Game State -----')\n",
    "        print('----- Move : ', moveNum,' Player : ',curPlayer,' LocalTurn :', not(server_turn),' -------')\n",
    "        print(stateToStr(state))\n",
    "            \n",
    "        if scoreMaxConnected(curPlayer, state) == 4:\n",
    "            print('======= Winner !! == Player :',curPlayer)\n",
    "            print(stateToStr(state))\n",
    "            return        \n",
    "\n",
    "        curPlayer = -1*curPlayer\n",
    "        server_turn = not server_turn\n",
    "        moveNum += 1"
   ]
  },
  {
   "cell_type": "markdown",
   "metadata": {},
   "source": [
    "## Unleash the AI !!"
   ]
  },
  {
   "cell_type": "code",
   "execution_count": 35,
   "metadata": {},
   "outputs": [],
   "source": [
    "testGameServer = {\n",
    "    'host' : 'localhost',\n",
    "    'port' : 12345,\n",
    "    'colour' : 'black',\n",
    "    'game_id' : 'mytestgame',\n",
    "}"
   ]
  },
  {
   "cell_type": "code",
   "execution_count": 36,
   "metadata": {
    "scrolled": true
   },
   "outputs": [
    {
     "ename": "ConnectionRefusedError",
     "evalue": "[Errno 61] Connection refused",
     "output_type": "error",
     "traceback": [
      "\u001b[0;31m---------------------------------------------------------------------------\u001b[0m",
      "\u001b[0;31mConnectionRefusedError\u001b[0m                    Traceback (most recent call last)",
      "\u001b[0;32m<ipython-input-36-393b36f2c197>\u001b[0m in \u001b[0;36m<module>\u001b[0;34m\u001b[0m\n\u001b[0;32m----> 1\u001b[0;31m \u001b[0mgame_ai_vs_remote\u001b[0m\u001b[0;34m(\u001b[0m\u001b[0mSERVER\u001b[0m\u001b[0;34m=\u001b[0m\u001b[0mtestGameServer\u001b[0m\u001b[0;34m,\u001b[0m \u001b[0mstateFile\u001b[0m\u001b[0;34m=\u001b[0m\u001b[0;34m'state_q1b.txt'\u001b[0m\u001b[0;34m)\u001b[0m\u001b[0;34m\u001b[0m\u001b[0;34m\u001b[0m\u001b[0m\n\u001b[0m",
      "\u001b[0;32m<ipython-input-34-466af47040d0>\u001b[0m in \u001b[0;36mgame_ai_vs_remote\u001b[0;34m(SERVER, stateFile)\u001b[0m\n\u001b[1;32m      5\u001b[0m     \u001b[0mstate\u001b[0m \u001b[0;34m=\u001b[0m \u001b[0mstrToState\u001b[0m\u001b[0;34m(\u001b[0m\u001b[0mstateStr\u001b[0m\u001b[0;34m)\u001b[0m\u001b[0;34m\u001b[0m\u001b[0;34m\u001b[0m\u001b[0m\n\u001b[1;32m      6\u001b[0m \u001b[0;34m\u001b[0m\u001b[0m\n\u001b[0;32m----> 7\u001b[0;31m     \u001b[0mtnServer\u001b[0m \u001b[0;34m=\u001b[0m \u001b[0mconnectToServer\u001b[0m\u001b[0;34m(\u001b[0m\u001b[0mSERVER\u001b[0m\u001b[0;34m)\u001b[0m\u001b[0;34m\u001b[0m\u001b[0;34m\u001b[0m\u001b[0m\n\u001b[0m\u001b[1;32m      8\u001b[0m \u001b[0;34m\u001b[0m\u001b[0m\n\u001b[1;32m      9\u001b[0m     \u001b[0mtime_limit\u001b[0m \u001b[0;34m=\u001b[0m \u001b[0mfloat\u001b[0m\u001b[0;34m(\u001b[0m\u001b[0;36m10000\u001b[0m\u001b[0;34m)\u001b[0m\u001b[0;34m\u001b[0m\u001b[0;34m\u001b[0m\u001b[0m\n",
      "\u001b[0;32m<ipython-input-29-6ffda76776f3>\u001b[0m in \u001b[0;36mconnectToServer\u001b[0;34m(serverObj)\u001b[0m\n\u001b[1;32m      5\u001b[0m     \u001b[0mgame_id\u001b[0m \u001b[0;34m=\u001b[0m \u001b[0mserverObj\u001b[0m\u001b[0;34m[\u001b[0m\u001b[0;34m'game_id'\u001b[0m\u001b[0;34m]\u001b[0m\u001b[0;34m\u001b[0m\u001b[0;34m\u001b[0m\u001b[0m\n\u001b[1;32m      6\u001b[0m \u001b[0;34m\u001b[0m\u001b[0m\n\u001b[0;32m----> 7\u001b[0;31m     \u001b[0mtn\u001b[0m \u001b[0;34m=\u001b[0m \u001b[0mtelnetlib\u001b[0m\u001b[0;34m.\u001b[0m\u001b[0mTelnet\u001b[0m\u001b[0;34m(\u001b[0m\u001b[0mhost\u001b[0m\u001b[0;34m,\u001b[0m \u001b[0mport\u001b[0m\u001b[0;34m)\u001b[0m\u001b[0;34m\u001b[0m\u001b[0;34m\u001b[0m\u001b[0m\n\u001b[0m\u001b[1;32m      8\u001b[0m     \u001b[0mtn\u001b[0m\u001b[0;34m.\u001b[0m\u001b[0mwrite\u001b[0m\u001b[0;34m(\u001b[0m\u001b[0mbytes\u001b[0m\u001b[0;34m(\u001b[0m\u001b[0;34m'{} {}\\n'\u001b[0m\u001b[0;34m.\u001b[0m\u001b[0mformat\u001b[0m\u001b[0;34m(\u001b[0m\u001b[0mgame_id\u001b[0m\u001b[0;34m,\u001b[0m \u001b[0mcolour\u001b[0m\u001b[0;34m)\u001b[0m\u001b[0;34m,\u001b[0m \u001b[0;34m'ascii'\u001b[0m\u001b[0;34m)\u001b[0m\u001b[0;34m)\u001b[0m\u001b[0;34m\u001b[0m\u001b[0;34m\u001b[0m\u001b[0m\n\u001b[1;32m      9\u001b[0m     \u001b[0mprint\u001b[0m\u001b[0;34m(\u001b[0m\u001b[0;34m'waiting for game :'\u001b[0m\u001b[0;34m,\u001b[0m \u001b[0mgame_id\u001b[0m\u001b[0;34m)\u001b[0m\u001b[0;34m\u001b[0m\u001b[0;34m\u001b[0m\u001b[0m\n",
      "\u001b[0;32m/usr/local/anaconda3/lib/python3.7/telnetlib.py\u001b[0m in \u001b[0;36m__init__\u001b[0;34m(self, host, port, timeout)\u001b[0m\n\u001b[1;32m    216\u001b[0m         \u001b[0mself\u001b[0m\u001b[0;34m.\u001b[0m\u001b[0moption_callback\u001b[0m \u001b[0;34m=\u001b[0m \u001b[0;32mNone\u001b[0m\u001b[0;34m\u001b[0m\u001b[0;34m\u001b[0m\u001b[0m\n\u001b[1;32m    217\u001b[0m         \u001b[0;32mif\u001b[0m \u001b[0mhost\u001b[0m \u001b[0;32mis\u001b[0m \u001b[0;32mnot\u001b[0m \u001b[0;32mNone\u001b[0m\u001b[0;34m:\u001b[0m\u001b[0;34m\u001b[0m\u001b[0;34m\u001b[0m\u001b[0m\n\u001b[0;32m--> 218\u001b[0;31m             \u001b[0mself\u001b[0m\u001b[0;34m.\u001b[0m\u001b[0mopen\u001b[0m\u001b[0;34m(\u001b[0m\u001b[0mhost\u001b[0m\u001b[0;34m,\u001b[0m \u001b[0mport\u001b[0m\u001b[0;34m,\u001b[0m \u001b[0mtimeout\u001b[0m\u001b[0;34m)\u001b[0m\u001b[0;34m\u001b[0m\u001b[0;34m\u001b[0m\u001b[0m\n\u001b[0m\u001b[1;32m    219\u001b[0m \u001b[0;34m\u001b[0m\u001b[0m\n\u001b[1;32m    220\u001b[0m     \u001b[0;32mdef\u001b[0m \u001b[0mopen\u001b[0m\u001b[0;34m(\u001b[0m\u001b[0mself\u001b[0m\u001b[0;34m,\u001b[0m \u001b[0mhost\u001b[0m\u001b[0;34m,\u001b[0m \u001b[0mport\u001b[0m\u001b[0;34m=\u001b[0m\u001b[0;36m0\u001b[0m\u001b[0;34m,\u001b[0m \u001b[0mtimeout\u001b[0m\u001b[0;34m=\u001b[0m\u001b[0msocket\u001b[0m\u001b[0;34m.\u001b[0m\u001b[0m_GLOBAL_DEFAULT_TIMEOUT\u001b[0m\u001b[0;34m)\u001b[0m\u001b[0;34m:\u001b[0m\u001b[0;34m\u001b[0m\u001b[0;34m\u001b[0m\u001b[0m\n",
      "\u001b[0;32m/usr/local/anaconda3/lib/python3.7/telnetlib.py\u001b[0m in \u001b[0;36mopen\u001b[0;34m(self, host, port, timeout)\u001b[0m\n\u001b[1;32m    232\u001b[0m         \u001b[0mself\u001b[0m\u001b[0;34m.\u001b[0m\u001b[0mport\u001b[0m \u001b[0;34m=\u001b[0m \u001b[0mport\u001b[0m\u001b[0;34m\u001b[0m\u001b[0;34m\u001b[0m\u001b[0m\n\u001b[1;32m    233\u001b[0m         \u001b[0mself\u001b[0m\u001b[0;34m.\u001b[0m\u001b[0mtimeout\u001b[0m \u001b[0;34m=\u001b[0m \u001b[0mtimeout\u001b[0m\u001b[0;34m\u001b[0m\u001b[0;34m\u001b[0m\u001b[0m\n\u001b[0;32m--> 234\u001b[0;31m         \u001b[0mself\u001b[0m\u001b[0;34m.\u001b[0m\u001b[0msock\u001b[0m \u001b[0;34m=\u001b[0m \u001b[0msocket\u001b[0m\u001b[0;34m.\u001b[0m\u001b[0mcreate_connection\u001b[0m\u001b[0;34m(\u001b[0m\u001b[0;34m(\u001b[0m\u001b[0mhost\u001b[0m\u001b[0;34m,\u001b[0m \u001b[0mport\u001b[0m\u001b[0;34m)\u001b[0m\u001b[0;34m,\u001b[0m \u001b[0mtimeout\u001b[0m\u001b[0;34m)\u001b[0m\u001b[0;34m\u001b[0m\u001b[0;34m\u001b[0m\u001b[0m\n\u001b[0m\u001b[1;32m    235\u001b[0m \u001b[0;34m\u001b[0m\u001b[0m\n\u001b[1;32m    236\u001b[0m     \u001b[0;32mdef\u001b[0m \u001b[0m__del__\u001b[0m\u001b[0;34m(\u001b[0m\u001b[0mself\u001b[0m\u001b[0;34m)\u001b[0m\u001b[0;34m:\u001b[0m\u001b[0;34m\u001b[0m\u001b[0;34m\u001b[0m\u001b[0m\n",
      "\u001b[0;32m/usr/local/anaconda3/lib/python3.7/socket.py\u001b[0m in \u001b[0;36mcreate_connection\u001b[0;34m(address, timeout, source_address)\u001b[0m\n\u001b[1;32m    725\u001b[0m \u001b[0;34m\u001b[0m\u001b[0m\n\u001b[1;32m    726\u001b[0m     \u001b[0;32mif\u001b[0m \u001b[0merr\u001b[0m \u001b[0;32mis\u001b[0m \u001b[0;32mnot\u001b[0m \u001b[0;32mNone\u001b[0m\u001b[0;34m:\u001b[0m\u001b[0;34m\u001b[0m\u001b[0;34m\u001b[0m\u001b[0m\n\u001b[0;32m--> 727\u001b[0;31m         \u001b[0;32mraise\u001b[0m \u001b[0merr\u001b[0m\u001b[0;34m\u001b[0m\u001b[0;34m\u001b[0m\u001b[0m\n\u001b[0m\u001b[1;32m    728\u001b[0m     \u001b[0;32melse\u001b[0m\u001b[0;34m:\u001b[0m\u001b[0;34m\u001b[0m\u001b[0;34m\u001b[0m\u001b[0m\n\u001b[1;32m    729\u001b[0m         \u001b[0;32mraise\u001b[0m \u001b[0merror\u001b[0m\u001b[0;34m(\u001b[0m\u001b[0;34m\"getaddrinfo returns an empty list\"\u001b[0m\u001b[0;34m)\u001b[0m\u001b[0;34m\u001b[0m\u001b[0;34m\u001b[0m\u001b[0m\n",
      "\u001b[0;32m/usr/local/anaconda3/lib/python3.7/socket.py\u001b[0m in \u001b[0;36mcreate_connection\u001b[0;34m(address, timeout, source_address)\u001b[0m\n\u001b[1;32m    714\u001b[0m             \u001b[0;32mif\u001b[0m \u001b[0msource_address\u001b[0m\u001b[0;34m:\u001b[0m\u001b[0;34m\u001b[0m\u001b[0;34m\u001b[0m\u001b[0m\n\u001b[1;32m    715\u001b[0m                 \u001b[0msock\u001b[0m\u001b[0;34m.\u001b[0m\u001b[0mbind\u001b[0m\u001b[0;34m(\u001b[0m\u001b[0msource_address\u001b[0m\u001b[0;34m)\u001b[0m\u001b[0;34m\u001b[0m\u001b[0;34m\u001b[0m\u001b[0m\n\u001b[0;32m--> 716\u001b[0;31m             \u001b[0msock\u001b[0m\u001b[0;34m.\u001b[0m\u001b[0mconnect\u001b[0m\u001b[0;34m(\u001b[0m\u001b[0msa\u001b[0m\u001b[0;34m)\u001b[0m\u001b[0;34m\u001b[0m\u001b[0;34m\u001b[0m\u001b[0m\n\u001b[0m\u001b[1;32m    717\u001b[0m             \u001b[0;31m# Break explicitly a reference cycle\u001b[0m\u001b[0;34m\u001b[0m\u001b[0;34m\u001b[0m\u001b[0;34m\u001b[0m\u001b[0m\n\u001b[1;32m    718\u001b[0m             \u001b[0merr\u001b[0m \u001b[0;34m=\u001b[0m \u001b[0;32mNone\u001b[0m\u001b[0;34m\u001b[0m\u001b[0;34m\u001b[0m\u001b[0m\n",
      "\u001b[0;31mConnectionRefusedError\u001b[0m: [Errno 61] Connection refused"
     ]
    }
   ],
   "source": [
    "game_ai_vs_remote(SERVER=testGameServer, stateFile='state_q1b.txt')"
   ]
  },
  {
   "cell_type": "markdown",
   "metadata": {},
   "source": [
    "![Alt Text](https://media.giphy.com/media/vFKqnCdLPNOKc/giphy.gif)\n",
    "<center>\"Bye bye humans !!\"</center>\n",
    "<center>- Unleashed AI</center>"
   ]
  }
 ],
 "metadata": {
  "kernelspec": {
   "display_name": "Python 3",
   "language": "python",
   "name": "python3"
  },
  "language_info": {
   "codemirror_mode": {
    "name": "ipython",
    "version": 3
   },
   "file_extension": ".py",
   "mimetype": "text/x-python",
   "name": "python",
   "nbconvert_exporter": "python",
   "pygments_lexer": "ipython3",
   "version": "3.7.4"
  },
  "toc": {
   "base_numbering": 1,
   "nav_menu": {},
   "number_sections": true,
   "sideBar": true,
   "skip_h1_title": false,
   "title_cell": "Table of Contents",
   "title_sidebar": "Contents",
   "toc_cell": false,
   "toc_position": {
    "height": "calc(100% - 180px)",
    "left": "10px",
    "top": "150px",
    "width": "228.628px"
   },
   "toc_section_display": true,
   "toc_window_display": true
  }
 },
 "nbformat": 4,
 "nbformat_minor": 2
}
